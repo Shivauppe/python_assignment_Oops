{
  "nbformat": 4,
  "nbformat_minor": 0,
  "metadata": {
    "colab": {
      "provenance": []
    },
    "kernelspec": {
      "name": "python3",
      "display_name": "Python 3"
    },
    "language_info": {
      "name": "python"
    }
  },
  "cells": [
    {
      "cell_type": "markdown",
      "source": [
        "### **What are the Key conecpts of Oops**\n",
        "In Python, Object-Oriented Programming (OOP) is centered around organizing code into classes and objects to promote modularity and reusability. The five key OOP concepts are:\n",
        "\n",
        "Classes and Objects:\n",
        "\n",
        "Class: A blueprint or prototype that defines the attributes and behaviors (methods) of an object.\n",
        "Object: An instance of a class that contains data and can perform functions defined in the class.\n",
        "Encapsulation:\n",
        "\n",
        "Bundling data (attributes) and methods that operate on that data into a single unit (class).\n",
        "Restricting direct access to some of an object’s components, often by making attributes private (using underscores, like _attribute), while providing public methods to access and modify them.\n",
        "Inheritance:\n",
        "\n",
        "A mechanism to create a new class (derived class) from an existing class (base class), inheriting its attributes and methods.\n",
        "Promotes code reuse and establishes a relationship between classes (like a parent-child relationship).\n",
        "Polymorphism:\n",
        "\n",
        "Allows different classes to be treated as instances of the same class through a common interface.\n",
        "Methods in different classes can have the same name but behave differently (method overriding and method overloading).\n",
        "Abstraction:\n",
        "\n",
        "Hiding complex implementation details and showing only the essential features of an object.\n",
        "Achieved through abstract classes or interfaces, which provide a template for other classes without specifying detailed implementation.\n",
        "These concepts work together to make Python OOP code more modular, maintainable, and reusable."
      ],
      "metadata": {
        "id": "INbB2UX6v2AJ"
      }
    },
    {
      "cell_type": "code",
      "source": [
        "# Python class for a Car with attributes for make, model, and year. It includes a method to display the car's information.\n",
        "\n",
        "class Car:\n",
        "    def __init__(self, make, model, year):\n",
        "        self.make = make\n",
        "        self.model = model\n",
        "        self.year = year\n",
        "\n",
        "    def display_info(self):\n",
        "        print(f\"Car: {self.year} {self.make} {self.model}\")\n",
        "\n",
        "# Example usage\n",
        "my_car = Car(\"Tata\", \"Curv EV\", 2024)\n",
        "my_car.display_info()\n",
        "\n",
        "\n",
        "# The __init__ method initializes the car's make, model, and year attributes.\n",
        "# The display_info method prints the car's details in a readable format.\n",
        "# When display_info is called, it outputs the car’s information."
      ],
      "metadata": {
        "colab": {
          "base_uri": "https://localhost:8080/"
        },
        "id": "DtaOStgxwnQq",
        "outputId": "095312c2-ca17-4700-c479-580a1684b890"
      },
      "execution_count": null,
      "outputs": [
        {
          "output_type": "stream",
          "name": "stdout",
          "text": [
            "Car: 2024 Tata Curv EV\n"
          ]
        }
      ]
    },
    {
      "cell_type": "markdown",
      "source": [
        "### **Instance Methods**\n",
        "Definition: Methods that operate on an instance of the class.\n",
        "Syntax: Defined with self as the first parameter, which refers to the specific instance calling the method.\n",
        "Usage: They can access and modify instance-level data (attributes specific to each instance).\n",
        "### **Class Methods**\n",
        "Definition: Methods that operate on the class itself rather than instances of the class.\n",
        "Syntax: Defined with cls as the first parameter and decorated with @classmethod.\n",
        "Usage: They can access and modify class-level data (attributes shared across all instances), but cannot directly modify instance attributes."
      ],
      "metadata": {
        "id": "K-Nw1MdFxW7d"
      }
    },
    {
      "cell_type": "code",
      "source": [
        "# Example\n",
        "# Here's an example that demonstrates both instance and class methods in a Car class.\n",
        "\n",
        "class Car:\n",
        "    num_of_wheels = 4  # Class attribute shared across all instances\n",
        "\n",
        "    def __init__(self, make, model, year):\n",
        "        self.make = make    # Instance attribute\n",
        "        self.model = model  # Instance attribute\n",
        "        self.year = year    # Instance attribute\n",
        "\n",
        "    def display_info(self):  # Instance method\n",
        "        # Displays information about a specific car instance\n",
        "        print(f\"Car: {self.year} {self.make} {self.model}\")\n",
        "\n",
        "    @classmethod\n",
        "    def change_wheels(cls, new_wheel_count):  # Class method\n",
        "        # Changes the class attribute for the number of wheels\n",
        "        cls.num_of_wheels = new_wheel_count\n",
        "        print(f\"Number of wheels changed to {cls.num_of_wheels}\")\n",
        "\n",
        "# Example usage\n",
        "my_car = Car(\"Toyota\", \"Camry\", 2022)\n",
        "my_car.display_info()      # Calls an instance method\n",
        "\n",
        "Car.change_wheels(6)       # Calls a class method to change wheels for all Car instances\n"
      ],
      "metadata": {
        "colab": {
          "base_uri": "https://localhost:8080/"
        },
        "id": "IV4jtHrSxesf",
        "outputId": "5c7e4b64-e985-4528-be2f-36c77482b3bc"
      },
      "execution_count": null,
      "outputs": [
        {
          "output_type": "stream",
          "name": "stdout",
          "text": [
            "Car: 2022 Toyota Camry\n",
            "Number of wheels changed to 6\n"
          ]
        }
      ]
    },
    {
      "cell_type": "code",
      "source": [
        "# Explanation:\n",
        "# display_info is an instance method because it uses self to access instance-specific attributes (make, model, and year).\n",
        "\n",
        "# change_wheels is a class method decorated with @classmethod. It uses cls to change the class-level attribute num_of_wheels, which is shared across all instances."
      ],
      "metadata": {
        "id": "_Qh7djJ4xrC2"
      },
      "execution_count": null,
      "outputs": []
    },
    {
      "cell_type": "markdown",
      "source": [
        "### **Method overloading**\n",
        "\n",
        "method overloading (having multiple methods with the same name but different parameters) isn't supported directly as in some other languages. Instead, Python implements a more flexible approach by using default arguments and handling different types of input within a single method.\n",
        "\n",
        "We can achieve similar behavior to overloading by:\n",
        "\n",
        "Using default arguments.\n",
        "Using variable arguments with *args and **kwargs.\n",
        "Using type checks to perform different actions based on the argument types."
      ],
      "metadata": {
        "id": "UW2k2nsHyXPy"
      }
    },
    {
      "cell_type": "code",
      "source": [
        "class Calculator:\n",
        "    def add(self, a, b, c=0):\n",
        "        return a + b + c\n",
        "\n",
        "# Example usage\n",
        "calc = Calculator()\n",
        "print(calc.add(5, 10))        # Calls add with two arguments\n",
        "print(calc.add(5, 10, 15))    # Calls add with three arguments\n"
      ],
      "metadata": {
        "colab": {
          "base_uri": "https://localhost:8080/"
        },
        "id": "Y43TeNmAyfz8",
        "outputId": "11f34b54-b6d5-4562-a732-2620045bb256"
      },
      "execution_count": null,
      "outputs": [
        {
          "output_type": "stream",
          "name": "stdout",
          "text": [
            "15\n",
            "30\n"
          ]
        }
      ]
    },
    {
      "cell_type": "code",
      "source": [
        "# Using *args and **kwargs\n",
        "class Calculator:\n",
        "    def add(self, *args):\n",
        "        return sum(args)\n",
        "\n",
        "# Example usage\n",
        "calc = Calculator()\n",
        "print(calc.add(5, 10))         # Adds two numbers\n",
        "print(calc.add(5, 10, 15))     # Adds three numbers\n",
        "print(calc.add(5, 10, 15, 20)) # Adds four numbers\n"
      ],
      "metadata": {
        "colab": {
          "base_uri": "https://localhost:8080/"
        },
        "id": "DboVThsYyofD",
        "outputId": "3771af28-ad25-4e6e-88f4-d2dac06cbc4e"
      },
      "execution_count": null,
      "outputs": [
        {
          "output_type": "stream",
          "name": "stdout",
          "text": [
            "15\n",
            "30\n",
            "50\n"
          ]
        }
      ]
    },
    {
      "cell_type": "markdown",
      "source": [
        "### **What are the 3 types of access modifiers ? how they are denoted**\n",
        "1. Public (public)\n",
        "Definition: Attributes or methods that are accessible from anywhere—both inside and outside the class.\n",
        "\n",
        "Denotation: They are written without any leading underscore.\n",
        "\n",
        "2. Protected (protected)\n",
        "Definition: Attributes or methods intended for use within the class and its subclasses, though still accessible from outside the class (as Python does not enforce strict access restrictions).\n",
        "\n",
        "Denotation: They are denoted by a single underscore (_) prefix.\n",
        "\n",
        "3. Private (private)\n",
        "Definition: Attributes or methods intended to be fully encapsulated within the class, not accessible from outside the class directly. Python applies name mangling to prevent accidental access but still does not enforce it strictly.\n",
        "\n",
        "Denotation: They are denoted by a double underscore (__) prefix."
      ],
      "metadata": {
        "id": "9jyEcnZWzGTa"
      }
    },
    {
      "cell_type": "code",
      "source": [
        "# public\n",
        "class Car:\n",
        "    def __init__(self, make, model):\n",
        "        self.make = make    # Public attribute\n",
        "        self.model = model  # Public attribute\n",
        "\n",
        "    def display_info(self):  # Public method\n",
        "        print(f\"{self.make} {self.model}\")\n",
        "\n",
        "car = Car(\"Toyota\", \"Camry\")\n",
        "print(car.make)  # Accessible\n",
        "car.display_info()  # Accessible\n"
      ],
      "metadata": {
        "colab": {
          "base_uri": "https://localhost:8080/"
        },
        "id": "-ND-B5HkziQm",
        "outputId": "3e02d8f7-8ba2-4118-a8ba-95be5b62cce8"
      },
      "execution_count": null,
      "outputs": [
        {
          "output_type": "stream",
          "name": "stdout",
          "text": [
            "Toyota\n",
            "Toyota Camry\n"
          ]
        }
      ]
    },
    {
      "cell_type": "code",
      "source": [
        "# protected\n",
        "class Car:\n",
        "    def __init__(self, make, model):\n",
        "        self._engine = \"V8\"  # Protected attribute\n",
        "\n",
        "    def _display_engine(self):  # Protected method\n",
        "        print(f\"Engine: {self._engine}\")\n",
        "\n",
        "car = Car(\"Toyota\", \"Camry\")\n",
        "print(car._engine)  # Accessible but discouraged\n",
        "car._display_engine()  # Accessible but discouraged\n"
      ],
      "metadata": {
        "colab": {
          "base_uri": "https://localhost:8080/"
        },
        "id": "1dkbB_JQzkaY",
        "outputId": "cc67f256-a38e-4b8d-9f14-bc36409e60ea"
      },
      "execution_count": null,
      "outputs": [
        {
          "output_type": "stream",
          "name": "stdout",
          "text": [
            "V8\n",
            "Engine: V8\n"
          ]
        }
      ]
    },
    {
      "cell_type": "code",
      "source": [
        "# private\n",
        "class Car:\n",
        "    def __init__(self, make, model):\n",
        "        self.__secret_code = \"XYZ123\"  # Private attribute\n",
        "\n",
        "    def __display_code(self):  # Private method\n",
        "        print(f\"Secret Code: {self.__secret_code}\")\n",
        "\n",
        "    def access_secret(self):\n",
        "        self.__display_code()  # Accessible within the class\n",
        "\n",
        "car = Car(\"Toyota\", \"Camry\")\n",
        "# print(car.__secret_code)  # Raises AttributeError\n",
        "car.access_secret()  # Works, since it's accessed within the class\n"
      ],
      "metadata": {
        "colab": {
          "base_uri": "https://localhost:8080/"
        },
        "id": "VmFfk8HCzpJu",
        "outputId": "db6d8064-610b-4dd9-801d-ed2d8c3cfc20"
      },
      "execution_count": null,
      "outputs": [
        {
          "output_type": "stream",
          "name": "stdout",
          "text": [
            "Secret Code: XYZ123\n"
          ]
        }
      ]
    },
    {
      "cell_type": "markdown",
      "source": [
        "### **Describe the Five types of inheritance and provide a simple example of multiple inheritance**\n",
        "In object-oriented programming, inheritance is a mechanism that allows a class to acquire properties and behaviors (attributes and methods) from another class. In Python, there are five main types of inheritance:"
      ],
      "metadata": {
        "id": "6EFERmnI0Pqn"
      }
    },
    {
      "cell_type": "code",
      "source": [
        "# 1. Single Inheritance\n",
        "# A class inherits from a single base (parent) class.\n",
        "class Animal:\n",
        "    def speak(self):\n",
        "        return \"Animal Sound\"\n",
        "\n",
        "class Dog(Animal):\n",
        "    def bark(self):\n",
        "        return \"Woof!\"\n"
      ],
      "metadata": {
        "id": "-kfUWS7T0Wap"
      },
      "execution_count": null,
      "outputs": []
    },
    {
      "cell_type": "code",
      "source": [
        "# 2. Multiple Inheritance\n",
        "# A class inherits from more than one base class.\n",
        "\n",
        "\n",
        "class Animal:\n",
        "    def speak(self):\n",
        "        return \"Animal Sound\"\n",
        "\n",
        "class Pet:\n",
        "    def owner(self):\n",
        "        return \"Belongs to an owner\"\n",
        "\n",
        "class Dog(Animal, Pet):  # Multiple inheritance\n",
        "    def bark(self):\n",
        "        return \"Woof!\"\n",
        "\n",
        "# Here, Dog inherits properties from both Animal and Pet."
      ],
      "metadata": {
        "id": "rF4nHEt-1FiX"
      },
      "execution_count": null,
      "outputs": []
    },
    {
      "cell_type": "code",
      "source": [
        "# 3. Multilevel Inheritance\n",
        "# A class inherits from a derived class, creating a chain of inheritance.\n",
        "class Animal:\n",
        "    def speak(self):\n",
        "        return \"Animal Sound\"\n",
        "\n",
        "class Mammal(Animal):\n",
        "    def feed(self):\n",
        "        return \"Feeds young ones with milk\"\n",
        "\n",
        "class Dog(Mammal):  # Multilevel inheritance\n",
        "    def bark(self):\n",
        "        return \"Woof!\"\n",
        "# Here, Dog inherits from Mammal, which in turn inherits from Animal.\n",
        "\n"
      ],
      "metadata": {
        "id": "C-ziqU0x1ZZK"
      },
      "execution_count": null,
      "outputs": []
    },
    {
      "cell_type": "code",
      "source": [
        "# 4. Hierarchical Inheritance\n",
        "# Multiple classes inherit from the same base class.\n",
        "class Animal:\n",
        "    def speak(self):\n",
        "        return \"Animal Sound\"\n",
        "\n",
        "class Dog(Animal):\n",
        "    def bark(self):\n",
        "        return \"Woof!\"\n",
        "\n",
        "class Cat(Animal):\n",
        "    def meow(self):\n",
        "        return \"Meow!\"\n",
        "# Here, both Dog and Cat inherit from Animal.\n",
        "\n"
      ],
      "metadata": {
        "id": "qMppQ9Ny1iDS"
      },
      "execution_count": null,
      "outputs": []
    },
    {
      "cell_type": "code",
      "source": [
        "# 5. Hybrid Inheritance\n",
        "# A combination of more than one type of inheritance. This often leads to a diamond-shaped structure in the inheritance hierarchy.\n",
        "\n",
        "class Animal:\n",
        "    def speak(self):\n",
        "        return \"Animal Sound\"\n",
        "\n",
        "class Mammal(Animal):\n",
        "    pass\n",
        "\n",
        "class Bird(Animal):\n",
        "    pass\n",
        "\n",
        "class Bat(Mammal, Bird):  # Hybrid inheritance\n",
        "    def fly(self):\n",
        "        return \"I can fly!\"\n",
        "\n",
        "# Here, Bat inherits from both Mammal and Bird, which both inherit from Animal.\n",
        "\n"
      ],
      "metadata": {
        "id": "Yg937m0J19R9"
      },
      "execution_count": null,
      "outputs": []
    },
    {
      "cell_type": "code",
      "source": [
        "# Mutiple Inheritance Example:\n",
        "class Father:\n",
        "    def skills(self):\n",
        "        return \"Good at mathematics\"\n",
        "\n",
        "class Mother:\n",
        "    def skills(self):\n",
        "        return \"Good at cooking\"\n",
        "\n",
        "class Child(Father, Mother):\n",
        "    def skills(self):\n",
        "        return f\"{super().skills()} and {Mother().skills()}\"\n",
        "\n",
        "# Example usage\n",
        "child = Child()\n",
        "print(child.skills())\n",
        "\n",
        "# In this example, Child inherits skills from both Father and Mother classes. When skills() is called on Child, it combines skills from both parent classes.\n"
      ],
      "metadata": {
        "colab": {
          "base_uri": "https://localhost:8080/"
        },
        "id": "mD1TnH-M2FlQ",
        "outputId": "1cc4c4c3-a751-4739-ae62-432edcf4f32e"
      },
      "execution_count": null,
      "outputs": [
        {
          "output_type": "stream",
          "name": "stdout",
          "text": [
            "Good at mathematics and Good at cooking\n"
          ]
        }
      ]
    },
    {
      "cell_type": "markdown",
      "source": [
        "## What is MRO in python and how can you retrive it **programatically**\n",
        "\n",
        "MRO (Method Resolution Order) in Python defines the order in which classes are searched when executing a method or accessing an attribute. It’s especially useful in multiple inheritance to ensure a predictable, consistent way of resolving methods. Python uses the C3 Linearization algorithm (also known as C3 superclass linearization) to determine the MRO for classes.\n",
        "\n",
        "The MRO is important because:\n",
        "\n",
        "It ensures that every class is only visited once in the hierarchy.\n",
        "It respects the order in which classes are defined, while also maintaining a consistent structure in complex inheritance hierarchies.\n",
        "How to Retrieve MRO Programmatically\n",
        "In Python, you can retrieve the MRO of a class in two ways:\n",
        "\n",
        "Using the .__mro__ attribute of a class.\n",
        "Using the mro() method from the type class."
      ],
      "metadata": {
        "id": "iUz7Xzg92q0X"
      }
    },
    {
      "cell_type": "code",
      "source": [
        "# Using .__mro__ Attribute\n",
        "class A:\n",
        "    pass\n",
        "\n",
        "class B(A):\n",
        "    pass\n",
        "\n",
        "class C(B):\n",
        "    pass\n",
        "\n",
        "print(C.__mro__)\n"
      ],
      "metadata": {
        "colab": {
          "base_uri": "https://localhost:8080/"
        },
        "id": "PALADS1V2ysv",
        "outputId": "64be930f-fd41-4017-a151-34ec1cc6f9ca"
      },
      "execution_count": null,
      "outputs": [
        {
          "output_type": "stream",
          "name": "stdout",
          "text": [
            "(<class '__main__.C'>, <class '__main__.B'>, <class '__main__.A'>, <class 'object'>)\n"
          ]
        }
      ]
    },
    {
      "cell_type": "code",
      "source": [
        "# Example with Multiple Inheritance\n",
        "# In multiple inheritance, the MRO is particularly useful for seeing the order of resolution:\n",
        "\n",
        "class A:\n",
        "    pass\n",
        "\n",
        "class B(A):\n",
        "    pass\n",
        "\n",
        "class C(A):\n",
        "    pass\n",
        "\n",
        "class D(B, C):\n",
        "    pass\n",
        "\n",
        "print(D.__mro__)\n",
        "\n"
      ],
      "metadata": {
        "colab": {
          "base_uri": "https://localhost:8080/"
        },
        "id": "yMyy_Lz626Au",
        "outputId": "0d6f91de-5795-439a-f1dd-a63a4ce84551"
      },
      "execution_count": null,
      "outputs": [
        {
          "output_type": "stream",
          "name": "stdout",
          "text": [
            "(<class '__main__.D'>, <class '__main__.B'>, <class '__main__.C'>, <class '__main__.A'>, <class 'object'>)\n"
          ]
        }
      ]
    },
    {
      "cell_type": "markdown",
      "source": [
        "### **we'll create an abstract class Shape with an abstract method area(), and then implement two subclasses: Circle and Rectangle that define the area() method.**"
      ],
      "metadata": {
        "id": "EWlDGN3O4Gxd"
      }
    },
    {
      "cell_type": "code",
      "source": [
        "from abc import ABC, abstractmethod\n",
        "import math\n",
        "\n",
        "class Shape(ABC):\n",
        "    @abstractmethod\n",
        "    def area(self):\n",
        "        pass\n",
        "\n",
        "class Circle(Shape):\n",
        "    def __init__(self, radius):\n",
        "        self.radius = radius\n",
        "\n",
        "    def area(self):\n",
        "        return math.pi * (self.radius ** 2)\n",
        "\n",
        "class Rectangle(Shape):\n",
        "    def __init__(self, width, height):\n",
        "        self.width = width\n",
        "        self.height = height\n",
        "\n",
        "    def area(self):\n",
        "        return self.width * self.height\n",
        "\n",
        "# Example usage\n",
        "circle = Circle(5)\n",
        "rectangle = Rectangle(4, 6)\n",
        "\n",
        "print(f\"Circle Area: {circle.area():.2f}\")       # Output: Circle Area: 78.54\n",
        "print(f\"Rectangle Area: {rectangle.area():.2f}\") # Output: Rectangle Area: 24.00\n"
      ],
      "metadata": {
        "colab": {
          "base_uri": "https://localhost:8080/"
        },
        "id": "1uy0JO8s34qc",
        "outputId": "d79b2cd8-eef8-4e60-da8c-68ae427d7ab7"
      },
      "execution_count": null,
      "outputs": [
        {
          "output_type": "stream",
          "name": "stdout",
          "text": [
            "Circle Area: 78.54\n",
            "Rectangle Area: 24.00\n"
          ]
        }
      ]
    },
    {
      "cell_type": "markdown",
      "source": [
        "### **Demonstrate polymorphism by creating a function that can make with diff shape objects to and print areas**\n",
        "\n",
        "Polymorphism allows different classes to be treated as instances of the same class through a common interface. In this case, we can create a function that takes different shape objects (like Circle and Rectangle) and prints their areas. This demonstrates polymorphism by using the same method name area() for different class implementations."
      ],
      "metadata": {
        "id": "4VQqAwoX42yQ"
      }
    },
    {
      "cell_type": "code",
      "source": [
        "from abc import ABC, abstractmethod\n",
        "import math\n",
        "\n",
        "# Abstract Base Class\n",
        "class Shape(ABC):\n",
        "    @abstractmethod\n",
        "    def area(self):\n",
        "        pass\n",
        "\n",
        "# Subclass for Circle\n",
        "class Circle(Shape):\n",
        "    def __init__(self, radius):\n",
        "        self.radius = radius\n",
        "\n",
        "    def area(self):\n",
        "        return math.pi * (self.radius ** 2)\n",
        "\n",
        "# Subclass for Rectangle\n",
        "class Rectangle(Shape):\n",
        "    def __init__(self, width, height):\n",
        "        self.width = width\n",
        "        self.height = height\n",
        "\n",
        "    def area(self):\n",
        "        return self.width * self.height\n",
        "\n",
        "# Function to print area of any shape\n",
        "def print_area(shape):\n",
        "    print(f\"The area of the shape is: {shape.area():.2f}\")\n",
        "\n",
        "# Example usage\n",
        "circle = Circle(5)\n",
        "rectangle = Rectangle(4, 6)\n",
        "\n",
        "# Demonstrating polymorphism\n",
        "print_area(circle)     # Output: The area of the shape is: 78.54\n",
        "print_area(rectangle)  # Output: The area of the shape is: 24.00\n"
      ],
      "metadata": {
        "colab": {
          "base_uri": "https://localhost:8080/"
        },
        "id": "l3Rjqqkr5DuI",
        "outputId": "6bdef3d4-bd67-406b-af92-ed008917db38"
      },
      "execution_count": 29,
      "outputs": [
        {
          "output_type": "stream",
          "name": "stdout",
          "text": [
            "The area of the shape is: 78.54\n",
            "The area of the shape is: 24.00\n"
          ]
        }
      ]
    },
    {
      "cell_type": "markdown",
      "source": [
        "## **Encapsulation**"
      ],
      "metadata": {
        "id": "OanJvtXi5rFy"
      }
    },
    {
      "cell_type": "code",
      "source": [
        "class BankAccount:\n",
        "    def __init__(self, account_number):\n",
        "        self.__account_number = account_number  # Private attribute\n",
        "        self.__balance = 0.0  # Private attribute\n",
        "\n",
        "    def deposit(self, amount):\n",
        "        if amount > 0:\n",
        "            self.__balance += amount\n",
        "            print(f\"Deposited: ${amount:.2f}. New balance: ${self.__balance:.2f}\")\n",
        "        else:\n",
        "            print(\"Deposit amount must be positive!\")\n",
        "\n",
        "    def withdraw(self, amount):\n",
        "        if amount > 0 and amount <= self.__balance:\n",
        "            self.__balance -= amount\n",
        "            print(f\"Withdrew: ${amount:.2f}. New balance: ${self.__balance:.2f}\")\n",
        "        else:\n",
        "            print(\"Insufficient funds or invalid withdrawal amount!\")\n",
        "\n",
        "    def balance_enquiry(self):\n",
        "        print(f\"Account Number: {self.__account_number}, Balance: ${self.__balance:.2f}\")\n",
        "\n",
        "# Example usage\n",
        "account = BankAccount(\"123456789\")\n",
        "account.deposit(500)        # Deposits $500\n",
        "account.withdraw(200)       # Withdraws $200\n",
        "account.balance_enquiry()   # Displays balance\n",
        "account.withdraw(400)       # Tries to withdraw more than the balance\n"
      ],
      "metadata": {
        "colab": {
          "base_uri": "https://localhost:8080/"
        },
        "id": "S_VX2ee75viN",
        "outputId": "1be719c0-a905-4188-c8ae-5b9c865a0ba1"
      },
      "execution_count": 30,
      "outputs": [
        {
          "output_type": "stream",
          "name": "stdout",
          "text": [
            "Deposited: $500.00. New balance: $500.00\n",
            "Withdrew: $200.00. New balance: $300.00\n",
            "Account Number: 123456789, Balance: $300.00\n",
            "Insufficient funds or invalid withdrawal amount!\n"
          ]
        }
      ]
    },
    {
      "cell_type": "markdown",
      "source": [
        "Explanation:\n",
        "Private Attributes:\n",
        "\n",
        "The __account_number and __balance attributes are defined with double underscores (__) to make them private. This means they cannot be accessed directly from outside the class.\n",
        "Constructor (__init__ method):\n",
        "\n",
        "The constructor initializes the account number and sets the balance to zero.\n",
        "Deposit Method:\n",
        "\n",
        "The deposit method allows adding a specified amount to the balance. It checks if the amount is positive before updating the balance.\n",
        "Withdraw Method:\n",
        "\n",
        "The withdraw method allows removing a specified amount from the balance. It checks if the withdrawal amount is positive and does not exceed the current balance.\n",
        "Balance Enquiry Method:\n",
        "\n",
        "The balance_enquiry method displays the account number and the current balance.\n",
        "Example Usage:\n",
        "An instance of BankAccount is created with a specific account number.\n",
        "The deposit, withdraw, and balance_enquiry methods are called to interact with the account while maintaining encapsulation, ensuring that the internal state (balance) cannot be accessed or modified directly from outside the class."
      ],
      "metadata": {
        "id": "l5qAfnyD6KU3"
      }
    },
    {
      "cell_type": "code",
      "source": [],
      "metadata": {
        "id": "68f_qq3159Xo"
      },
      "execution_count": null,
      "outputs": []
    },
    {
      "cell_type": "markdown",
      "source": [
        "### **In Python, the __str__ and __add__ magic methods (also known as dunder methods) allow you to customize the string representation of objects and define how objects of a class can be added together, respectively.**\n",
        "\n",
        "__str__ Method\n",
        "\n",
        "Purpose: This method is called when you use the str() function or the print() function on an object. It allows you to define a human-readable string representation of your object.\n",
        "Usage: It helps in providing a more meaningful output when you print an instance of the class.\n",
        "\n",
        "__add__ Method\n",
        "\n",
        "Purpose: This method is invoked when you use the + operator between two objects of the class. You can define how two instances of your class should be added together.\n",
        "Usage: It enables the implementation of custom addition logic for your class."
      ],
      "metadata": {
        "id": "7oA9xGL86jGS"
      }
    },
    {
      "cell_type": "code",
      "source": [
        "class Vector:\n",
        "    def __init__(self, x, y):\n",
        "        self.x = x\n",
        "        self.y = y\n",
        "\n",
        "    def __str__(self):\n",
        "        return f\"Vector({self.x}, {self.y})\"  # Human-readable representation\n",
        "\n",
        "    def __add__(self, other):\n",
        "        if isinstance(other, Vector):\n",
        "            return Vector(self.x + other.x, self.y + other.y)  # Vector addition\n",
        "        return NotImplemented  # Return NotImplemented for unsupported types\n",
        "\n",
        "# Example usage\n",
        "vector1 = Vector(2, 3)\n",
        "vector2 = Vector(4, 5)\n",
        "\n",
        "print(vector1)  # Calls __str__, Output: Vector(2, 3)\n",
        "print(vector2)  # Calls __str__, Output: Vector(4, 5)\n",
        "\n",
        "vector3 = vector1 + vector2  # Calls __add__\n",
        "print(vector3)  # Calls __str__, Output: Vector(6, 8)\n"
      ],
      "metadata": {
        "colab": {
          "base_uri": "https://localhost:8080/"
        },
        "id": "t69Yq47X6vFj",
        "outputId": "6b179aff-dac8-4247-cacb-6196d990d710"
      },
      "execution_count": 31,
      "outputs": [
        {
          "output_type": "stream",
          "name": "stdout",
          "text": [
            "Vector(2, 3)\n",
            "Vector(4, 5)\n",
            "Vector(6, 8)\n"
          ]
        }
      ]
    },
    {
      "cell_type": "markdown",
      "source": [
        "Explanation:\n",
        "Constructor (__init__):\n",
        "\n",
        "The constructor initializes the Vector object with x and y coordinates.\n",
        "String Representation (__str__):\n",
        "\n",
        "The __str__ method is overridden to return a formatted string representing the vector, which provides a clear and readable output when printed.\n",
        "Addition Method (__add__):\n",
        "\n",
        "The __add__ method is overridden to define how two Vector objects should be added. It checks if the other object is an instance of Vector and, if so, returns a new Vector instance with the sum of the respective x and y values.\n",
        "If the other object is not a Vector, it returns NotImplemented, which is a standard practice for unsupported operations.\n",
        "What These Methods Allow You to Do:\n",
        "By overriding the __str__ method, you can control what is displayed when you print an instance of the class, making it user-friendly.\n",
        "By overriding the __add__ method, you can define how instances of your class interact with the + operator, allowing for intuitive mathematical operations between objects of your class.\n",
        "This makes the class more versatile and integrates it better with Python's built-in functionalities.\n",
        "\n",
        "\n",
        "\n",
        "\n",
        "\n",
        "\n"
      ],
      "metadata": {
        "id": "I0CtgXGa67qX"
      }
    },
    {
      "cell_type": "markdown",
      "source": [
        "### **Create a decorator that measures and prints the execution of a function**\n",
        "\n",
        "A decorator in Python is a function that modifies the behavior of another function. You can create a decorator that measures the execution time of a function by using the time module to capture the start and end times of the function call. Here’s how you can implement such a decorator:"
      ],
      "metadata": {
        "id": "n1yJ_J9Z7ZpJ"
      }
    },
    {
      "cell_type": "code",
      "source": [
        "import time\n",
        "\n",
        "def time_it(func):\n",
        "    \"\"\"Decorator that measures the execution time of a function.\"\"\"\n",
        "    def wrapper(*args, **kwargs):\n",
        "        start_time = time.time()  # Record the start time\n",
        "        result = func(*args, **kwargs)  # Call the original function\n",
        "        end_time = time.time()  # Record the end time\n",
        "        execution_time = end_time - start_time  # Calculate the execution time\n",
        "        print(f\"Execution time of {func.__name__}: {execution_time:.4f} seconds\")\n",
        "        return result  # Return the result of the original function\n",
        "    return wrapper\n",
        "\n",
        "# Example usage of the decorator\n",
        "@time_it\n",
        "def slow_function(seconds):\n",
        "    \"\"\"A function that sleeps for a given number of seconds.\"\"\"\n",
        "    time.sleep(seconds)\n",
        "    return \"Function complete!\"\n",
        "\n",
        "# Call the decorated function\n",
        "result = slow_function(2)  # Sleep for 2 seconds\n",
        "print(result)  # Output: Function complete!\n"
      ],
      "metadata": {
        "colab": {
          "base_uri": "https://localhost:8080/"
        },
        "id": "r5SBSpla7ek7",
        "outputId": "e12e9663-1747-4778-f016-099366c60df9"
      },
      "execution_count": 33,
      "outputs": [
        {
          "output_type": "stream",
          "name": "stdout",
          "text": [
            "Execution time of slow_function: 2.0022 seconds\n",
            "Function complete!\n"
          ]
        }
      ]
    },
    {
      "cell_type": "markdown",
      "source": [
        "Explanation:\n",
        "Decorator Function (time_it):\n",
        "\n",
        "This function takes a function func as an argument.\n",
        "Inside, it defines a wrapper function that will wrap the original function.\n",
        "Wrapper Function:\n",
        "\n",
        "The wrapper function uses *args and **kwargs to accept any number of positional and keyword arguments, allowing it to work with functions of varying signatures.\n",
        "It records the start time using time.time().\n",
        "It calls the original function and stores the result.\n",
        "After the function call, it records the end time and calculates the execution time by subtracting the start time from the end time.\n",
        "It prints the execution time along with the name of the original function using func.__name__.\n",
        "Finally, it returns the result of the original function.\n",
        "Applying the Decorator:\n",
        "\n",
        "The decorator is applied to the slow_function using the @time_it syntax.\n",
        "When slow_function is called, it sleeps for the specified number of seconds, and the decorator measures and prints the execution time."
      ],
      "metadata": {
        "id": "JoQeSor87vTZ"
      }
    },
    {
      "cell_type": "markdown",
      "source": [
        "### **How Python Resolves the Diamond Problem**\n"
      ],
      "metadata": {
        "id": "7Wf-3hK08LGS"
      }
    },
    {
      "cell_type": "markdown",
      "source": [
        "Python uses the C3 Linearization (or C3 superclass linearization) algorithm to resolve the diamond problem. This algorithm establishes a specific order in which classes are considered when resolving method calls. It takes into account the order of base classes and maintains the following rules:\n",
        "\n",
        "Order of Inheritance: The order in which classes are specified in the class definition.\n",
        "Parent Classes Before Children: A class's parents must be considered before the class itself.\n",
        "No Duplicate Classes: If a class appears more than once in the hierarchy, it is only considered once."
      ],
      "metadata": {
        "id": "Pf83SLkJ8OPK"
      }
    },
    {
      "cell_type": "code",
      "source": [
        "class A:\n",
        "    def greet(self):\n",
        "        return \"Hello from A\"\n",
        "\n",
        "class B(A):\n",
        "    def greet(self):\n",
        "        return \"Hello from B\"\n",
        "\n",
        "class C(A):\n",
        "    def greet(self):\n",
        "        return \"Hello from C\"\n",
        "\n",
        "class D(B, C):\n",
        "    pass\n",
        "\n",
        "# Example usage\n",
        "d = D()\n",
        "print(d.greet())  # Output will be determined by MRO\n"
      ],
      "metadata": {
        "colab": {
          "base_uri": "https://localhost:8080/"
        },
        "id": "8UwxsMpL8RAa",
        "outputId": "38f2ae81-d4f9-4e42-ed85-629c4676d0a3"
      },
      "execution_count": 34,
      "outputs": [
        {
          "output_type": "stream",
          "name": "stdout",
          "text": [
            "Hello from B\n"
          ]
        }
      ]
    },
    {
      "cell_type": "markdown",
      "source": [
        "# **In this MRO:**\n",
        "\n",
        "Python will first look for the greet() method in D.\n",
        "If not found, it will check B next, then C, and finally A.\n",
        "Thus, calling d.greet() will output: \"Hello from B\" because B is the first class in the MRO that defines the greet() method.\n",
        "\n",
        "**Summary**\n",
        "\n",
        "The diamond problem occurs when a class inherits from multiple classes that share a common ancestor.\n",
        "\n",
        "Python resolves this ambiguity using the C3 Linearization algorithm, which provides a well-defined MRO that dictates the order in which classes are searched for methods.\n",
        "\n",
        "This method allows Python to maintain a clear and consistent behavior, avoiding conflicts that arise from multiple inheritance.\n",
        "\n",
        "\n",
        "\n",
        "\n",
        "\n"
      ],
      "metadata": {
        "id": "TxShsU_Y8b3q"
      }
    },
    {
      "cell_type": "code",
      "source": [
        "# To keep track of the number of instances created from a class, you can use a class variable to store the count and define a class method to access this count. Each time a new instance of the class is created, you can increment this count in the constructor (__init__ method).\n",
        "\n",
        "class MyClass:\n",
        "    instance_count = 0\n",
        "\n",
        "    def __init__(self):\n",
        "        MyClass.instance_count += 1\n",
        "\n",
        "    @classmethod\n",
        "    def get_instance_count(cls):\n",
        "        return cls.instance_count\n",
        "\n",
        "# Example\n",
        "\n",
        "class InstanceCounter:\n",
        "    # Class variable to keep track of the number of instances\n",
        "    instance_count = 0\n",
        "\n",
        "    def __init__(self):\n",
        "        # Increment the count each time a new instance is created\n",
        "        InstanceCounter.instance_count += 1\n",
        "\n",
        "    @classmethod\n",
        "    def get_instance_count(cls):\n",
        "        \"\"\"Class method to return the number of instances created.\"\"\"\n",
        "        return cls.instance_count\n",
        "\n",
        "# Example usage\n",
        "obj1 = InstanceCounter()\n",
        "obj2 = InstanceCounter()\n",
        "obj3 = InstanceCounter()\n",
        "\n",
        "print(f\"Number of instances created: {InstanceCounter.get_instance_count()}\")  # Output: 3\n"
      ],
      "metadata": {
        "colab": {
          "base_uri": "https://localhost:8080/"
        },
        "id": "QzseKyQD9Bxq",
        "outputId": "67745eaf-046b-4d26-cc87-3ca7b8ef20e4"
      },
      "execution_count": 35,
      "outputs": [
        {
          "output_type": "stream",
          "name": "stdout",
          "text": [
            "Number of instances created: 3\n"
          ]
        }
      ]
    },
    {
      "cell_type": "markdown",
      "source": [
        "Explanation\n",
        "Class Variable (instance_count):\n",
        "\n",
        "A class variable instance_count is defined to keep track of the total number of instances created from the InstanceCounter class.\n",
        "Constructor (__init__ method):\n",
        "\n",
        "Each time a new instance is created, the constructor increments the instance_count by 1.\n",
        "Class Method (get_instance_count):\n",
        "\n",
        "The class method get_instance_count is defined with the @classmethod decorator. It can be called on the class itself (or any instance) and returns the current count of instances.\n",
        "Example Usage:\n",
        "Three instances of InstanceCounter are created.\n",
        "Finally, the total number of instances created is printed using the class method get_instance_count(), which outputs 3.\n",
        "This approach allows you to easily track how many instances of a class have been created throughout the lifetime of the program.\n",
        "\n",
        "\n",
        "\n",
        "\n",
        "\n",
        "\n"
      ],
      "metadata": {
        "id": "_rlDIKle9PfC"
      }
    },
    {
      "cell_type": "markdown",
      "source": [
        "### ** implement a static method in a class that checks if a given year is a leap year, you can use the**\n",
        "\n",
        "1.A year is a leap year if it is divisible by 4.\n",
        "\n",
        "2.However, if the year is divisible by 100, it is not a leap year unless it is also divisible by 400.\n",
        "\n",
        "With this in mind, you can create a class that includes a static method for checking leap years. Here's how to do it:"
      ],
      "metadata": {
        "id": "pHE3WLzh9f5L"
      }
    },
    {
      "cell_type": "code",
      "source": [
        "class YearChecker:\n",
        "    @staticmethod\n",
        "    def is_leap_year(year):\n",
        "        \"\"\"Check if the given year is a leap year.\"\"\"\n",
        "        if (year % 4 == 0 and year % 100 != 0) or (year % 400 == 0):\n",
        "            return True\n",
        "        return False\n",
        "\n",
        "# Example usage\n",
        "year_to_check = 2024\n",
        "if YearChecker.is_leap_year(year_to_check):\n",
        "    print(f\"{year_to_check} is a leap year.\")\n",
        "else:\n",
        "    print(f\"{year_to_check} is not a leap year.\")\n",
        "\n",
        "year_to_check = 1900\n",
        "if YearChecker.is_leap_year(year_to_check):\n",
        "    print(f\"{year_to_check} is a leap year.\")\n",
        "else:\n",
        "    print(f\"{year_to_check} is not a leap year.\")\n",
        "\n",
        "year_to_check = 2000\n",
        "if YearChecker.is_leap_year(year_to_check):\n",
        "    print(f\"{year_to_check} is a leap year.\")\n",
        "else:\n",
        "    print(f\"{year_to_check} is not a leap year.\")\n"
      ],
      "metadata": {
        "colab": {
          "base_uri": "https://localhost:8080/"
        },
        "id": "CPB-CTYL9uED",
        "outputId": "61bf16f6-4bae-49d0-90e5-3036eded1bdf"
      },
      "execution_count": 36,
      "outputs": [
        {
          "output_type": "stream",
          "name": "stdout",
          "text": [
            "2024 is a leap year.\n",
            "1900 is not a leap year.\n",
            "2000 is a leap year.\n"
          ]
        }
      ]
    }
  ]
}